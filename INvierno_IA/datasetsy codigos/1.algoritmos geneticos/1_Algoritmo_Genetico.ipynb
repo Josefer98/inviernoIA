{
  "nbformat": 4,
  "nbformat_minor": 0,
  "metadata": {
    "colab": {
      "provenance": []
    },
    "kernelspec": {
      "name": "python3",
      "display_name": "Python 3"
    },
    "language_info": {
      "name": "python"
    }
  },
  "cells": [
    {
      "cell_type": "markdown",
      "source": [
        "Algrotimo Genetico enfocado a el juego de un laberinto, utilizando algoritmos geneticos se tratara de buscar un camino optimo en un laberitnto. EL suiguiente codigo se hizo con ayuda de chat (gpt)\n",
        "\n",
        "Nombres:José Fernando\n",
        "Apellidos:Alfaro Ayzama"
      ],
      "metadata": {
        "id": "7rEAYPy2SZ1E"
      }
    },
    {
      "cell_type": "code",
      "source": [
        "import numpy as np\n",
        "import random\n",
        "\n",
        "# Definición del laberinto (0 representa espacio libre y 1 representa pared)\n",
        "laberinto = np.array([\n",
        "    [0, 1, 0, 0, 0, 0],\n",
        "    [0, 1, 1, 1, 0, 0],\n",
        "    [0, 0, 0, 0, 0, 0],\n",
        "    [0, 0, 1, 1, 1, 0],\n",
        "    [0, 0, 0, 0, 0, 0],\n",
        "    [0, 0, 1, 1, 1, 0],\n",
        "    [0, 0, 0, 0, 0, 0]\n",
        "])\n",
        "\n",
        "# Punto inicial y final del laberinto (fila, columna)\n",
        "inicio = (0, 0)\n",
        "final = (6, 5)\n",
        "\n",
        "# Parámetros del algoritmo genético\n",
        "num_generaciones = 100\n",
        "tam_poblacion = 50\n",
        "prob_mutacion = 0.2\n",
        "#creacion de individuo\n",
        "def generar_camino_aleatorio():\n",
        "    camino = [] #se almacena el caminno\n",
        "    pos_actual = inicio #se controla la poscicion actual\n",
        "    visitados = set() #mantiene el registro de las posiciones visitadas\n",
        "\n",
        "    while pos_actual != final:#mientras la pos actual se distinta de la final seguira iterando\n",
        "        movimientos_posibles = obtener_movimientos_posibles(pos_actual, visitados)#se controla los movimientos que puede realizar\n",
        "        if not movimientos_posibles:#si ya no hay mas movimientos posibles no retorna nada\n",
        "            return None\n",
        "        siguiente_movimiento = random.choice(movimientos_posibles)#seleccciona un moviento aleatorio de los movimientos posibles\n",
        "        camino.append(siguiente_movimiento)#añade el moviento al camino\n",
        "        pos_actual = siguiente_movimiento #actualiza la pos actual\n",
        "        visitados.add(pos_actual) #la posicion actual se marca como visitada\n",
        "    return camino #retorna el camino completo\n",
        "\n",
        "def obtener_movimientos_posibles(posicion, visitados): #se recive una posicion y la lista de visitados\n",
        "    movimientos = [] #lisata donde se almacenan los movimientos posibles\n",
        "    filas, columnas = laberinto.shape #optenemos el numero de filas y columnas del laberinto\n",
        "    fila, columna = posicion #la posicion en filas y columnas\n",
        "    #todas verifican si hay pared o si ya esta visitado.\n",
        "    #verifica si es posile moverse hacia arriba\n",
        "    if fila > 0 and laberinto[fila - 1, columna] == 0 and (fila - 1, columna) not in visitados:\n",
        "        movimientos.append((fila - 1, columna))\n",
        "    #verifica si puede moverse hacia abajo\n",
        "    if fila < filas - 1 and laberinto[fila + 1, columna] == 0 and (fila + 1, columna) not in visitados:\n",
        "        movimientos.append((fila + 1, columna))\n",
        "    #Verifica si se puede mover hacia la izquierda\n",
        "    if columna > 0 and laberinto[fila, columna - 1] == 0 and (fila, columna - 1) not in visitados:\n",
        "        movimientos.append((fila, columna - 1))\n",
        "    #verifica si se puede mover a la derecha\n",
        "    if columna < columnas - 1 and laberinto[fila, columna + 1] == 0 and (fila, columna + 1) not in visitados:\n",
        "        movimientos.append((fila, columna + 1))\n",
        "\n",
        "    return movimientos #retorna la lista de posibles movimientos que se puede realizar\n",
        "\n",
        "def calcular_fitness(camino): #el fitnes se calcula contando las posiones que tine el camino mientras menos posiciones mejor fitnes\n",
        "    return 1 / (len(camino) + 1)\n",
        "\n",
        "def cruzar_padres(padre1, padre2): #se le pasa 2 individuos\n",
        "    punto_cruce = random.randint(1, len(padre1) - 1)#se selecciona un punto aleatorio para el cruce, a lo largo del padre 1\n",
        "    hijo = padre1[:punto_cruce] + padre2[punto_cruce:]#desde el pprincipio hasta el punto padre1 y desde el punto al final padre2\n",
        "    return hijo #se retorna reslutado del nuevo hijo\n",
        "\n",
        "def mutar_camino(camino, prob_mutacion): #recive el camino y prob de mutacion\n",
        "    for i in range(len(camino)): #se itera a lo largo del camino en este caso individuo\n",
        "        if random.random() < prob_mutacion: #se saca un random entre 0 y 1 y si es menor entra\n",
        "            camino[i] = (random.randint(0, laberinto.shape[0] - 1), random.randint(0, laberinto.shape[1] - 1)) #en un punto del camino se le asigna aleatoriamente dos coordenadas\n",
        "    return camino #camino mutado                                                                               #controladas con el num de col y fil del laberinto\n",
        "\n",
        "def generar_poblacion_inicial(tam_poblacion): #recive el tamaño de poblacion que tendra\n",
        "    poblacion = [] #se almacena la poblacion\n",
        "    while len(poblacion) < tam_poblacion: #mientras la poblacion sea menor a el tam de poblacion\n",
        "        individuo = generar_camino_aleatorio() #un individuo es un camino generado anteriormente\n",
        "        if individuo is not None:  #verifica que el individuo no sea NONE\n",
        "         poblacion.append(individuo) #agrega el individuo a la poblacion\n",
        "    return poblacion #retorna la poblacion con los individuos\n",
        "def seleccion_por_torneo(poblacion, tam_torneo): #recibe la poblacion y el numero de individuos que entraran en el torneo\n",
        "    torneo = random.sample(poblacion, tam_torneo)#se escoge aletoriamente (n=tamtorneo) participantes(individuos) de la poblacion\n",
        "    return max(torneo, key=calcular_fitness) #se escoge al que tengo mayor fitnes de todos los individuos seleccionados\n",
        "\n",
        "\n",
        "def algoritmo_genetico(num_generaciones, tam_poblacion, tam_torneo, prob_mutacion):\n",
        "    poblacion = generar_poblacion_inicial(tam_poblacion) #se crea la poblacion\n",
        "\n",
        "    for generacion in range(num_generaciones): #se iteria para crear las generaciones\n",
        "        poblacion = sorted(poblacion, key=lambda x: calcular_fitness(x), reverse=True)#la poblacion se ordena de forma descendente por su fitnest\n",
        "        if calcular_fitness(poblacion[0]) == 1: #se verifica si el mejor individuo de esa poblacion es igual a 1\n",
        "            break #si es asi ya se encontro la mejor ruta y sale del bucle\n",
        "        nueva_generacion = poblacion[:2] #guarda los dos mejores individuos de la poblacion, porq serian lo mejor de la poblacion y se gurdan para la suiguiente generacion\n",
        "\n",
        "        for i in range(tam_poblacion - 2): #el bucle se repite para llenar la pobalcion con individuos generados por selccion y cruzamiento\n",
        "            padre1 = seleccion_por_torneo(poblacion, tam_torneo) #seleccionando  padres mediante la selaccion por torneo\n",
        "            padre2 = seleccion_por_torneo(poblacion, tam_torneo) #para obtner mejores los 2 mejores individuos\n",
        "            nuevo_individuo = cruzar_padres(padre1, padre2) #para realizar la cruza de estos\n",
        "            nueva_generacion.append(nuevo_individuo) #se agrega el nuevo indivuo resultado de la cruza para mejorar la exploracion de resultados\n",
        "\n",
        "        for i in range(2, len(nueva_generacion)): #itera sobre los nuevos individuos de la nueva poblacion excluyendo los dos primeros\n",
        "            nueva_generacion[i] = mutar_camino(nueva_generacion[i], prob_mutacion) #aplica mutaciones a los indivuos restantes\n",
        "\n",
        "        poblacion = nueva_generacion #se actuliza la poblacion con la nueva generacion creada.\n",
        "        #el bucle continua hasta que se generen todas las generaciones si no se encuentra el mejor fitnest antes\n",
        "    return poblacion[0]# se retorna el primer individuo de la ultima generacion que deberia ser el que tenga mejor fitnes\n",
        "\n",
        "# Ejecución del algoritmo genético\n",
        "solucion = algoritmo_genetico(num_generaciones, tam_poblacion, tam_torneo=10, prob_mutacion=0.2)\n",
        "print(\"Mejor camino:\")\n",
        "print(solucion)"
      ],
      "metadata": {
        "colab": {
          "base_uri": "https://localhost:8080/"
        },
        "id": "epo8-B5EcAyU",
        "outputId": "a47bb3ab-4dd2-414c-aa78-7061f3d8b673"
      },
      "execution_count": null,
      "outputs": [
        {
          "output_type": "stream",
          "name": "stdout",
          "text": [
            "Mejor camino:\n",
            "[(1, 0), (2, 0), (3, 0), (3, 1), (4, 1), (4, 2), (4, 3), (4, 4), (4, 5), (5, 5), (6, 5)]\n"
          ]
        }
      ]
    },
    {
      "cell_type": "code",
      "source": [
        "laberinto = np.array([\n",
        "    [0, 1, 0, 0, 0, 0],\n",
        "    [0, 1, 1, 1, 0, 0],\n",
        "    [0, 0, 0, 0, 0, 0],\n",
        "    [0, 0, 1, 1, 1, 0],\n",
        "    [0, 0, 0, 0, 0, 0],\n",
        "    [0, 0, 1, 1, 1, 0],\n",
        "    [0, 0, 0, 0, 0, 0]\n",
        "])"
      ],
      "metadata": {
        "id": "Xfsx69vYLvd_"
      },
      "execution_count": null,
      "outputs": []
    }
  ]
}